{
 "cells": [
  {
   "cell_type": "code",
   "execution_count": 90,
   "id": "21907370",
   "metadata": {},
   "outputs": [],
   "source": [
    "import pandas as pd\n",
    "import matplotlib.colors as mcolors\n",
    "from operator import attrgetter\n",
    "import seaborn as sns"
   ]
  },
  {
   "cell_type": "code",
   "execution_count": 91,
   "id": "2413d904",
   "metadata": {},
   "outputs": [
    {
     "name": "stderr",
     "output_type": "stream",
     "text": [
      "C:\\Users\\polia\\AppData\\Local\\Temp\\ipykernel_11076\\1576903203.py:1: UserWarning: Parsing dates in DD/MM/YYYY format when dayfirst=False (the default) was specified. This may lead to inconsistently parsed dates! Specify a format to ensure consistent parsing.\n",
      "  df = pd.read_csv(\"dataset.csv\",\n"
     ]
    },
    {
     "data": {
      "text/html": [
       "<div>\n",
       "<style scoped>\n",
       "    .dataframe tbody tr th:only-of-type {\n",
       "        vertical-align: middle;\n",
       "    }\n",
       "\n",
       "    .dataframe tbody tr th {\n",
       "        vertical-align: top;\n",
       "    }\n",
       "\n",
       "    .dataframe thead th {\n",
       "        text-align: right;\n",
       "    }\n",
       "</style>\n",
       "<table border=\"1\" class=\"dataframe\">\n",
       "  <thead>\n",
       "    <tr style=\"text-align: right;\">\n",
       "      <th></th>\n",
       "      <th>CLIENT_ID</th>\n",
       "      <th>VALUE_DAY</th>\n",
       "    </tr>\n",
       "  </thead>\n",
       "  <tbody>\n",
       "    <tr>\n",
       "      <th>0</th>\n",
       "      <td>3596869440</td>\n",
       "      <td>2021-09-30</td>\n",
       "    </tr>\n",
       "    <tr>\n",
       "      <th>1</th>\n",
       "      <td>181778433</td>\n",
       "      <td>2021-09-30</td>\n",
       "    </tr>\n",
       "    <tr>\n",
       "      <th>2</th>\n",
       "      <td>4271531990</td>\n",
       "      <td>2021-09-30</td>\n",
       "    </tr>\n",
       "    <tr>\n",
       "      <th>3</th>\n",
       "      <td>3949165697</td>\n",
       "      <td>2021-09-30</td>\n",
       "    </tr>\n",
       "    <tr>\n",
       "      <th>4</th>\n",
       "      <td>1926920317</td>\n",
       "      <td>2021-09-30</td>\n",
       "    </tr>\n",
       "    <tr>\n",
       "      <th>...</th>\n",
       "      <td>...</td>\n",
       "      <td>...</td>\n",
       "    </tr>\n",
       "    <tr>\n",
       "      <th>805816</th>\n",
       "      <td>4243322997</td>\n",
       "      <td>2022-02-28</td>\n",
       "    </tr>\n",
       "    <tr>\n",
       "      <th>805817</th>\n",
       "      <td>67461867</td>\n",
       "      <td>2022-02-28</td>\n",
       "    </tr>\n",
       "    <tr>\n",
       "      <th>805818</th>\n",
       "      <td>302417315</td>\n",
       "      <td>2022-02-28</td>\n",
       "    </tr>\n",
       "    <tr>\n",
       "      <th>805819</th>\n",
       "      <td>1780553365</td>\n",
       "      <td>2022-02-28</td>\n",
       "    </tr>\n",
       "    <tr>\n",
       "      <th>805820</th>\n",
       "      <td>798087856</td>\n",
       "      <td>2022-02-28</td>\n",
       "    </tr>\n",
       "  </tbody>\n",
       "</table>\n",
       "<p>805821 rows × 2 columns</p>\n",
       "</div>"
      ],
      "text/plain": [
       "         CLIENT_ID  VALUE_DAY\n",
       "0       3596869440 2021-09-30\n",
       "1        181778433 2021-09-30\n",
       "2       4271531990 2021-09-30\n",
       "3       3949165697 2021-09-30\n",
       "4       1926920317 2021-09-30\n",
       "...            ...        ...\n",
       "805816  4243322997 2022-02-28\n",
       "805817    67461867 2022-02-28\n",
       "805818   302417315 2022-02-28\n",
       "805819  1780553365 2022-02-28\n",
       "805820   798087856 2022-02-28\n",
       "\n",
       "[805821 rows x 2 columns]"
      ]
     },
     "execution_count": 91,
     "metadata": {},
     "output_type": "execute_result"
    }
   ],
   "source": [
    "df = pd.read_csv(\"dataset.csv\", \n",
    "                 header = 0, \n",
    "                 sep = ';',\n",
    "                 usecols = [\"CLIENT_ID\", \"VALUE_DAY\"],\n",
    "                 parse_dates = [1],)\n",
    "df"
   ]
  },
  {
   "cell_type": "code",
   "execution_count": 92,
   "id": "e8d271f3",
   "metadata": {},
   "outputs": [],
   "source": [
    "# Создадим переменные cohort и order_month. \n",
    "# cohort указывает ежемесячную когорту на основе первой даты покупки, а order_month — усеченный месяц с даты авторизации\n",
    "df['order_month'] = df['VALUE_DAY'].dt.to_period('M')"
   ]
  },
  {
   "cell_type": "code",
   "execution_count": 93,
   "id": "d26eb545",
   "metadata": {},
   "outputs": [],
   "source": [
    "df['cohort'] = df.groupby('CLIENT_ID')['VALUE_DAY'].transform('min').dt.to_period('M')"
   ]
  },
  {
   "cell_type": "code",
   "execution_count": 94,
   "id": "f134c6d2",
   "metadata": {},
   "outputs": [],
   "source": [
    "df_cohort = df.groupby(['cohort', 'order_month']).agg(n_customers=('CLIENT_ID', 'nunique')).reset_index(drop=False)"
   ]
  },
  {
   "cell_type": "code",
   "execution_count": 95,
   "id": "b83f6a07",
   "metadata": {},
   "outputs": [],
   "source": [
    "df_cohort['period_number'] = (df_cohort.order_month - df_cohort.cohort).apply(attrgetter('n'))"
   ]
  },
  {
   "cell_type": "code",
   "execution_count": 96,
   "id": "8c6cc0a2",
   "metadata": {},
   "outputs": [
    {
     "data": {
      "text/html": [
       "<div>\n",
       "<style scoped>\n",
       "    .dataframe tbody tr th:only-of-type {\n",
       "        vertical-align: middle;\n",
       "    }\n",
       "\n",
       "    .dataframe tbody tr th {\n",
       "        vertical-align: top;\n",
       "    }\n",
       "\n",
       "    .dataframe thead th {\n",
       "        text-align: right;\n",
       "    }\n",
       "</style>\n",
       "<table border=\"1\" class=\"dataframe\">\n",
       "  <thead>\n",
       "    <tr style=\"text-align: right;\">\n",
       "      <th></th>\n",
       "      <th>cohort</th>\n",
       "      <th>order_month</th>\n",
       "      <th>n_customers</th>\n",
       "      <th>period_number</th>\n",
       "    </tr>\n",
       "  </thead>\n",
       "  <tbody>\n",
       "    <tr>\n",
       "      <th>0</th>\n",
       "      <td>2021-09</td>\n",
       "      <td>2021-09</td>\n",
       "      <td>129232</td>\n",
       "      <td>0</td>\n",
       "    </tr>\n",
       "    <tr>\n",
       "      <th>1</th>\n",
       "      <td>2021-09</td>\n",
       "      <td>2021-10</td>\n",
       "      <td>124593</td>\n",
       "      <td>1</td>\n",
       "    </tr>\n",
       "    <tr>\n",
       "      <th>2</th>\n",
       "      <td>2021-09</td>\n",
       "      <td>2021-11</td>\n",
       "      <td>120232</td>\n",
       "      <td>2</td>\n",
       "    </tr>\n",
       "    <tr>\n",
       "      <th>3</th>\n",
       "      <td>2021-09</td>\n",
       "      <td>2021-12</td>\n",
       "      <td>116456</td>\n",
       "      <td>3</td>\n",
       "    </tr>\n",
       "    <tr>\n",
       "      <th>4</th>\n",
       "      <td>2021-09</td>\n",
       "      <td>2022-01</td>\n",
       "      <td>105547</td>\n",
       "      <td>4</td>\n",
       "    </tr>\n",
       "  </tbody>\n",
       "</table>\n",
       "</div>"
      ],
      "text/plain": [
       "    cohort order_month  n_customers  period_number\n",
       "0  2021-09     2021-09       129232              0\n",
       "1  2021-09     2021-10       124593              1\n",
       "2  2021-09     2021-11       120232              2\n",
       "3  2021-09     2021-12       116456              3\n",
       "4  2021-09     2022-01       105547              4"
      ]
     },
     "execution_count": 96,
     "metadata": {},
     "output_type": "execute_result"
    }
   ],
   "source": [
    "df_cohort.head()"
   ]
  },
  {
   "cell_type": "code",
   "execution_count": 97,
   "id": "7a0d7605",
   "metadata": {},
   "outputs": [],
   "source": [
    "# Aгрегируем данные по когорте и order_month и подсчитываем количество уникальных клиентов в каждой группе.\n",
    "cohort_pivot = df_cohort.pivot_table(index='cohort', columns='period_number', values='n_customers')"
   ]
  },
  {
   "cell_type": "code",
   "execution_count": 98,
   "id": "cf244a40",
   "metadata": {},
   "outputs": [
    {
     "data": {
      "text/html": [
       "<div>\n",
       "<style scoped>\n",
       "    .dataframe tbody tr th:only-of-type {\n",
       "        vertical-align: middle;\n",
       "    }\n",
       "\n",
       "    .dataframe tbody tr th {\n",
       "        vertical-align: top;\n",
       "    }\n",
       "\n",
       "    .dataframe thead th {\n",
       "        text-align: right;\n",
       "    }\n",
       "</style>\n",
       "<table border=\"1\" class=\"dataframe\">\n",
       "  <thead>\n",
       "    <tr style=\"text-align: right;\">\n",
       "      <th>period_number</th>\n",
       "      <th>0</th>\n",
       "      <th>1</th>\n",
       "      <th>2</th>\n",
       "      <th>3</th>\n",
       "      <th>4</th>\n",
       "      <th>5</th>\n",
       "    </tr>\n",
       "    <tr>\n",
       "      <th>cohort</th>\n",
       "      <th></th>\n",
       "      <th></th>\n",
       "      <th></th>\n",
       "      <th></th>\n",
       "      <th></th>\n",
       "      <th></th>\n",
       "    </tr>\n",
       "  </thead>\n",
       "  <tbody>\n",
       "    <tr>\n",
       "      <th>2021-09</th>\n",
       "      <td>129232.0</td>\n",
       "      <td>124593.0</td>\n",
       "      <td>120232.0</td>\n",
       "      <td>116456.0</td>\n",
       "      <td>105547.0</td>\n",
       "      <td>104163.0</td>\n",
       "    </tr>\n",
       "    <tr>\n",
       "      <th>2021-10</th>\n",
       "      <td>7044.0</td>\n",
       "      <td>6936.0</td>\n",
       "      <td>6883.0</td>\n",
       "      <td>5040.0</td>\n",
       "      <td>4800.0</td>\n",
       "      <td>NaN</td>\n",
       "    </tr>\n",
       "    <tr>\n",
       "      <th>2021-11</th>\n",
       "      <td>5841.0</td>\n",
       "      <td>5743.0</td>\n",
       "      <td>5225.0</td>\n",
       "      <td>4377.0</td>\n",
       "      <td>NaN</td>\n",
       "      <td>NaN</td>\n",
       "    </tr>\n",
       "    <tr>\n",
       "      <th>2021-12</th>\n",
       "      <td>6875.0</td>\n",
       "      <td>6188.0</td>\n",
       "      <td>6170.0</td>\n",
       "      <td>NaN</td>\n",
       "      <td>NaN</td>\n",
       "      <td>NaN</td>\n",
       "    </tr>\n",
       "    <tr>\n",
       "      <th>2022-01</th>\n",
       "      <td>14770.0</td>\n",
       "      <td>14374.0</td>\n",
       "      <td>NaN</td>\n",
       "      <td>NaN</td>\n",
       "      <td>NaN</td>\n",
       "      <td>NaN</td>\n",
       "    </tr>\n",
       "    <tr>\n",
       "      <th>2022-02</th>\n",
       "      <td>5330.0</td>\n",
       "      <td>NaN</td>\n",
       "      <td>NaN</td>\n",
       "      <td>NaN</td>\n",
       "      <td>NaN</td>\n",
       "      <td>NaN</td>\n",
       "    </tr>\n",
       "  </tbody>\n",
       "</table>\n",
       "</div>"
      ],
      "text/plain": [
       "period_number         0         1         2         3         4         5\n",
       "cohort                                                                   \n",
       "2021-09        129232.0  124593.0  120232.0  116456.0  105547.0  104163.0\n",
       "2021-10          7044.0    6936.0    6883.0    5040.0    4800.0       NaN\n",
       "2021-11          5841.0    5743.0    5225.0    4377.0       NaN       NaN\n",
       "2021-12          6875.0    6188.0    6170.0       NaN       NaN       NaN\n",
       "2022-01         14770.0   14374.0       NaN       NaN       NaN       NaN\n",
       "2022-02          5330.0       NaN       NaN       NaN       NaN       NaN"
      ]
     },
     "execution_count": 98,
     "metadata": {},
     "output_type": "execute_result"
    }
   ],
   "source": [
    "cohort_pivot"
   ]
  },
  {
   "cell_type": "code",
   "execution_count": 99,
   "id": "d3a8d27f",
   "metadata": {},
   "outputs": [],
   "source": [
    "cohort_size = cohort_pivot.iloc[:, 0]"
   ]
  },
  {
   "cell_type": "code",
   "execution_count": 100,
   "id": "e9721e89",
   "metadata": {},
   "outputs": [],
   "source": [
    "retention_matrix = cohort_pivot.divide(cohort_size, axis=0)"
   ]
  },
  {
   "cell_type": "code",
   "execution_count": 101,
   "id": "58ad816b",
   "metadata": {},
   "outputs": [
    {
     "data": {
      "image/png": "[encoded data removed]",
      "text/plain": [
       "<Figure size 1200x800 with 3 Axes>"
      ]
     },
     "metadata": {},
     "output_type": "display_data"
    }
   ],
   "source": [
    "# Строим матрицу удержания в виде тепловой карты. \n",
    "with sns.axes_style(\"white\"):\n",
    "    fig, ax = plt.subplots(1, 2, figsize=(12, 8), sharey=True, gridspec_kw={'width_ratios': [1, 11]})\n",
    "    \n",
    "    # retention matrix\n",
    "    sns.heatmap(retention_matrix, \n",
    "                mask=retention_matrix.isnull(), \n",
    "                annot=True, \n",
    "                fmt='.0%', \n",
    "                cmap='RdYlGn', \n",
    "                ax=ax[1])\n",
    "    ax[1].set_title('Monthly Cohorts: User Retention', fontsize=16)\n",
    "    ax[1].set(xlabel='# of periods',\n",
    "              ylabel='')\n",
    "\n",
    "    # cohort size\n",
    "    cohort_size_df = pd.DataFrame(cohort_size).rename(columns={0: 'cohort_size'})\n",
    "    white_cmap = mcolors.ListedColormap(['white'])\n",
    "    sns.heatmap(cohort_size_df, \n",
    "                annot=True, \n",
    "                cbar=False, \n",
    "                fmt='g', \n",
    "                cmap=white_cmap, \n",
    "                ax=ax[0])\n",
    "\n",
    "    fig.tight_layout()"
   ]
  },
  {
   "cell_type": "code",
   "execution_count": null,
   "id": "03f16a8a",
   "metadata": {},
   "outputs": [],
   "source": []
  }
 ],
 "metadata": {
  "kernelspec": {
   "display_name": "Python 3 (ipykernel)",
   "language": "python",
   "name": "python3"
  },
  "language_info": {
   "codemirror_mode": {
    "name": "ipython",
    "version": 3
   },
   "file_extension": ".py",
   "mimetype": "text/x-python",
   "name": "python",
   "nbconvert_exporter": "python",
   "pygments_lexer": "ipython3",
   "version": "3.10.9"
  }
 },
 "nbformat": 4,
 "nbformat_minor": 5
}
